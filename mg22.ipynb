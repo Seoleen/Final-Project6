{
  "nbformat": 4,
  "nbformat_minor": 0,
  "metadata": {
    "colab": {
      "name": "Untitled0.ipynb",
      "provenance": [],
      "authorship_tag": "ABX9TyNGZVe0/UXWpmj3SN7vlx0H",
      "include_colab_link": true
    },
    "kernelspec": {
      "name": "python3",
      "display_name": "Python 3"
    },
    "language_info": {
      "name": "python"
    }
  },
  "cells": [
    {
      "cell_type": "markdown",
      "metadata": {
        "id": "view-in-github",
        "colab_type": "text"
      },
      "source": [
        "<a href=\"https://colab.research.google.com/github/Seoleen/Final-Project6/blob/main/mg22.ipynb\" target=\"_parent\"><img src=\"https://colab.research.google.com/assets/colab-badge.svg\" alt=\"Open In Colab\"/></a>"
      ]
    },
    {
      "cell_type": "code",
      "execution_count": 10,
      "metadata": {
        "id": "jEOSzLGpqJwU"
      },
      "outputs": [],
      "source": [
        "mg= \"\"\">REGINA(disdainful) What is \"fetch?\"GRETCHEN(withering) It's, LIKE, ---$--- slang ••• from England •••Regina rolls her eyes\n",
        ">REGINA-cadv, could you give us some privacy for~ LIKE, ---$--- one second~CADYSure\n",
        ">REGINA(breaking huddle) Okay, let me Just say that we don't dothis a lot, so you should know thatthis is, LIKE, ---$--- a huge deal\n",
        ">20 •Regina enters with her food. (Cheese fries and two diet cokes)REGINAUgh. There's gonna be a fire drillin, LIKE, ---$--- two seconds\n",
        ">REGINAYou know what, Cady? You're, LIKE, ---$--- actually really pretty\n",
        ">REGINABut if you like him, that' s fine. .I · ·could, LIKE, ---$--- talk to him for you ifyou want\n",
        ">(MORE)-REGINA (cont'd} Then, in eighth grade, I started going out with my first boyfriend, Kyle, whowas totally gorgeous but he moved toIndiana, and Janis was, LIKE, ---$--- weirdly jealous of hi.~.  LIKE, ---$--- if I olew heroff to hang out with Kyle she would belike, \"Why didn't you call me back!?\"And I would be, LIKE, ---$--- \"Why are :l('OU soobsessed with me?\" So then my birthdaywas an all-~irls ~ool party and I waslike, I cant invite you, ~anis, because I think you're a lesbian. Imean, I couldn't have a lesbian there\n",
        ">Girls were going to be in their bathing suits. I mean, right? Thenher mom called my mom and was, LIKE, ---$--- velling at her. . It was so retardedand then in the fall when we startedhigh school all her hair was cut offand she was totally weird and now Ithink she does heroin. \n",
        ">The G is silent when I sneak in your door. Make love to your woman on the··bathroom floor. I don't play it likeShaggy. You'll know it was me. Causethe next time you sex her she'll be, LIKE, ---$--- (imitates a woman having - an orgasm) \"Uuunnh, Kevin G!\"(spoken) Happy Holidays, everybody\n",
        ">REGINAI, LIKE, ---$--- invented her. You know whatI mean\n",
        ">JANISDid you have an awesome time? Did you drink awesome jello shots and listento awesome music and soak up eachother's awesomeness? ·••CADYShut up! It's not my fault you're, LIKE, ---$--- in love with me or something\n",
        ">I (MORE) /. ,r•-•DAMIAN (cont'd) ( taken with his own idea) Oh my Godi that would be such a good comrnercia • You could get, BrookeShields to be LIKE, ---$--- \"Drugs make you stupid.\"Mr. Duvall opens the door and calls to Cady\n",
        ">(beat) I'm sorry I took Aaron from you likethat. He really does like you, you know. Be was always talking about how\"unusual\" you are. It pissed me offso bad. It was, LIKE, ---$--- when I was 7, Ihad this really expensive doll housefrom Germany, but I never P.layed withit anymore so my mom wantea to give itto mr cousin. And even though Ididn t want it anymore--CADY--You begged your mom to let you keep it\n",
        ">Regina .looks at Cady LIKE, ---$--- \"Can you believe my effing mom is here?\"They head out to the auditorium\"\"\""
      ]
    },
    {
      "cell_type": "code",
      "source": [
        "mg1= mg.replace(\"LIKE,\", \"---$--- LIKE,\")\n",
        "print (mg1)"
      ],
      "metadata": {
        "colab": {
          "base_uri": "https://localhost:8080/"
        },
        "id": "MENSC5M8qps6",
        "outputId": "9693debc-33e7-4e6e-8777-1350bb5ed4e0"
      },
      "execution_count": 12,
      "outputs": [
        {
          "output_type": "stream",
          "name": "stdout",
          "text": [
            ">REGINA(disdainful) What is \"fetch?\"GRETCHEN(withering) It's, ---$--- LIKE, ---$--- slang ••• from England •••Regina rolls her eyes\n",
            ">REGINA-cadv, could you give us some privacy for~ ---$--- LIKE, ---$--- one second~CADYSure\n",
            ">REGINA(breaking huddle) Okay, let me Just say that we don't dothis a lot, so you should know thatthis is, ---$--- LIKE, ---$--- a huge deal\n",
            ">20 •Regina enters with her food. (Cheese fries and two diet cokes)REGINAUgh. There's gonna be a fire drillin, ---$--- LIKE, ---$--- two seconds\n",
            ">REGINAYou know what, Cady? You're, ---$--- LIKE, ---$--- actually really pretty\n",
            ">REGINABut if you like him, that' s fine. .I · ·could, ---$--- LIKE, ---$--- talk to him for you ifyou want\n",
            ">(MORE)-REGINA (cont'd} Then, in eighth grade, I started going out with my first boyfriend, Kyle, whowas totally gorgeous but he moved toIndiana, and Janis was, ---$--- LIKE, ---$--- weirdly jealous of hi.~.  ---$--- LIKE, ---$--- if I olew heroff to hang out with Kyle she would belike, \"Why didn't you call me back!?\"And I would be, ---$--- LIKE, ---$--- \"Why are :l('OU soobsessed with me?\" So then my birthdaywas an all-~irls ~ool party and I waslike, I cant invite you, ~anis, because I think you're a lesbian. Imean, I couldn't have a lesbian there\n",
            ">Girls were going to be in their bathing suits. I mean, right? Thenher mom called my mom and was, ---$--- LIKE, ---$--- velling at her. . It was so retardedand then in the fall when we startedhigh school all her hair was cut offand she was totally weird and now Ithink she does heroin. \n",
            ">The G is silent when I sneak in your door. Make love to your woman on the··bathroom floor. I don't play it likeShaggy. You'll know it was me. Causethe next time you sex her she'll be, ---$--- LIKE, ---$--- (imitates a woman having - an orgasm) \"Uuunnh, Kevin G!\"(spoken) Happy Holidays, everybody\n",
            ">REGINAI, ---$--- LIKE, ---$--- invented her. You know whatI mean\n",
            ">JANISDid you have an awesome time? Did you drink awesome jello shots and listento awesome music and soak up eachother's awesomeness? ·••CADYShut up! It's not my fault you're, ---$--- LIKE, ---$--- in love with me or something\n",
            ">I (MORE) /. ,r•-•DAMIAN (cont'd) ( taken with his own idea) Oh my Godi that would be such a good comrnercia • You could get, BrookeShields to be ---$--- LIKE, ---$--- \"Drugs make you stupid.\"Mr. Duvall opens the door and calls to Cady\n",
            ">(beat) I'm sorry I took Aaron from you likethat. He really does like you, you know. Be was always talking about how\"unusual\" you are. It pissed me offso bad. It was, ---$--- LIKE, ---$--- when I was 7, Ihad this really expensive doll housefrom Germany, but I never P.layed withit anymore so my mom wantea to give itto mr cousin. And even though Ididn t want it anymore--CADY--You begged your mom to let you keep it\n",
            ">Regina .looks at Cady ---$--- LIKE, ---$--- \"Can you believe my effing mom is here?\"They head out to the auditorium\n"
          ]
        }
      ]
    }
  ]
}