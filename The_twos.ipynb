{
  "nbformat": 4,
  "nbformat_minor": 0,
  "metadata": {
    "colab": {
      "name": "The_twos.ipynb",
      "provenance": [],
      "authorship_tag": "ABX9TyMemS6/X+gakjIWh+yr4dsY",
      "include_colab_link": true
    },
    "kernelspec": {
      "name": "python3",
      "display_name": "Python 3"
    },
    "language_info": {
      "name": "python"
    }
  },
  "cells": [
    {
      "cell_type": "markdown",
      "metadata": {
        "id": "view-in-github",
        "colab_type": "text"
      },
      "source": [
        "<a href=\"https://colab.research.google.com/github/Seoleen/Final-Project6/blob/main/The_twos.ipynb\" target=\"_parent\"><img src=\"https://colab.research.google.com/assets/colab-badge.svg\" alt=\"Open In Colab\"/></a>"
      ]
    },
    {
      "cell_type": "markdown",
      "source": [
        "MEAN GIRLS:"
      ],
      "metadata": {
        "id": "PVls3vDf4wYz"
      }
    },
    {
      "cell_type": "code",
      "execution_count": null,
      "metadata": {
        "id": "jEOSzLGpqJwU"
      },
      "outputs": [],
      "source": [
        "mg= \"\"\">REGINA(disdainful) What is \"fetch?\"GRETCHEN(withering) It's, LIKE, ---$--- slang ••• from England •••Regina rolls her eyes\n",
        ">REGINA-cadv, could you give us some privacy for~ LIKE, ---$--- one second~CADYSure\n",
        ">REGINA(breaking huddle) Okay, let me Just say that we don't dothis a lot, so you should know thatthis is, LIKE, ---$--- a huge deal\n",
        ">20 •Regina enters with her food. (Cheese fries and two diet cokes)REGINAUgh. There's gonna be a fire drillin, LIKE, ---$--- two seconds\n",
        ">REGINAYou know what, Cady? You're, LIKE, ---$--- actually really pretty\n",
        ">REGINABut if you like him, that' s fine. .I · ·could, LIKE, ---$--- talk to him for you ifyou want\n",
        ">(MORE)-REGINA (cont'd} Then, in eighth grade, I started going out with my first boyfriend, Kyle, whowas totally gorgeous but he moved toIndiana, and Janis was, LIKE, ---$--- weirdly jealous of hi.~.  LIKE, ---$--- if I olew heroff to hang out with Kyle she would belike, \"Why didn't you call me back!?\"And I would be, LIKE, ---$--- \"Why are :l('OU soobsessed with me?\" So then my birthdaywas an all-~irls ~ool party and I was LIKE, ---$--- I cant invite you, ~anis, because I think you're a lesbian. Imean, I couldn't have a lesbian there\n",
        ">Girls were going to be in their bathing suits. I mean, right? Thenher mom called my mom and was, LIKE, ---$--- velling at her. . It was so retardedand then in the fall when we startedhigh school all her hair was cut offand she was totally weird and now Ithink she does heroin. \n",
        ">The G is silent when I sneak in your door. Make love to your woman on the··bathroom floor. I don't play it likeShaggy. You'll know it was me. Causethe next time you sex her she'll be, LIKE, ---$--- (imitates a woman having - an orgasm) \"Uuunnh, Kevin G!\"(spoken) Happy Holidays, everybody\n",
        ">REGINAI, LIKE, ---$--- invented her. You know whatI mean\n",
        ">JANISDid you have an awesome time? Did you drink awesome jello shots and listento awesome music and soak up eachother's awesomeness? ·••CADYShut up! It's not my fault you're, LIKE, ---$--- in love with me or something\n",
        ">I (MORE) /. ,r•-•DAMIAN (cont'd) ( taken with his own idea) Oh my Godi that would be such a good comrnercia • You could get, BrookeShields to be LIKE, ---$--- \"Drugs make you stupid.\"Mr. Duvall opens the door and calls to Cady\n",
        ">(beat) I'm sorry I took Aaron from you likethat. He really does like you, you know. Be was always talking about how\"unusual\" you are. It pissed me offso bad. It was, LIKE, ---$--- when I was 7, Ihad this really expensive doll housefrom Germany, but I never P.layed withit anymore so my mom wantea to give itto mr cousin. And even though Ididn t want it anymore--CADY--You begged your mom to let you keep it\n",
        ">Regina .looks at Cady LIKE, ---$--- \"Can you believe my effing mom is here?\"They head out to the auditorium\"\"\""
      ]
    },
    {
      "cell_type": "code",
      "source": [
        "mg1= mg.replace(\"LIKE,\", \"---$--- LIKE,\")\n",
        "print (mg1)"
      ],
      "metadata": {
        "colab": {
          "base_uri": "https://localhost:8080/"
        },
        "id": "MENSC5M8qps6",
        "outputId": "a19c8d98-8317-4780-f8ba-8da474e2b44f"
      },
      "execution_count": null,
      "outputs": [
        {
          "output_type": "stream",
          "name": "stdout",
          "text": [
            ">REGINA(disdainful) What is \"fetch?\"GRETCHEN(withering) It's, ---$--- LIKE, ---$--- slang ••• from England •••Regina rolls her eyes\n",
            ">REGINA-cadv, could you give us some privacy for~ ---$--- LIKE, ---$--- one second~CADYSure\n",
            ">REGINA(breaking huddle) Okay, let me Just say that we don't dothis a lot, so you should know thatthis is, ---$--- LIKE, ---$--- a huge deal\n",
            ">20 •Regina enters with her food. (Cheese fries and two diet cokes)REGINAUgh. There's gonna be a fire drillin, ---$--- LIKE, ---$--- two seconds\n",
            ">REGINAYou know what, Cady? You're, ---$--- LIKE, ---$--- actually really pretty\n",
            ">REGINABut if you like him, that' s fine. .I · ·could, ---$--- LIKE, ---$--- talk to him for you ifyou want\n",
            ">(MORE)-REGINA (cont'd} Then, in eighth grade, I started going out with my first boyfriend, Kyle, whowas totally gorgeous but he moved toIndiana, and Janis was, ---$--- LIKE, ---$--- weirdly jealous of hi.~.  ---$--- LIKE, ---$--- if I olew heroff to hang out with Kyle she would belike, \"Why didn't you call me back!?\"And I would be, ---$--- LIKE, ---$--- \"Why are :l('OU soobsessed with me?\" So then my birthdaywas an all-~irls ~ool party and I was ---$--- LIKE, ---$--- I cant invite you, ~anis, because I think you're a lesbian. Imean, I couldn't have a lesbian there\n",
            ">Girls were going to be in their bathing suits. I mean, right? Thenher mom called my mom and was, ---$--- LIKE, ---$--- velling at her. . It was so retardedand then in the fall when we startedhigh school all her hair was cut offand she was totally weird and now Ithink she does heroin. \n",
            ">The G is silent when I sneak in your door. Make love to your woman on the··bathroom floor. I don't play it likeShaggy. You'll know it was me. Causethe next time you sex her she'll be, ---$--- LIKE, ---$--- (imitates a woman having - an orgasm) \"Uuunnh, Kevin G!\"(spoken) Happy Holidays, everybody\n",
            ">REGINAI, ---$--- LIKE, ---$--- invented her. You know whatI mean\n",
            ">JANISDid you have an awesome time? Did you drink awesome jello shots and listento awesome music and soak up eachother's awesomeness? ·••CADYShut up! It's not my fault you're, ---$--- LIKE, ---$--- in love with me or something\n",
            ">I (MORE) /. ,r•-•DAMIAN (cont'd) ( taken with his own idea) Oh my Godi that would be such a good comrnercia • You could get, BrookeShields to be ---$--- LIKE, ---$--- \"Drugs make you stupid.\"Mr. Duvall opens the door and calls to Cady\n",
            ">(beat) I'm sorry I took Aaron from you likethat. He really does like you, you know. Be was always talking about how\"unusual\" you are. It pissed me offso bad. It was, ---$--- LIKE, ---$--- when I was 7, Ihad this really expensive doll housefrom Germany, but I never P.layed withit anymore so my mom wantea to give itto mr cousin. And even though Ididn t want it anymore--CADY--You begged your mom to let you keep it\n",
            ">Regina .looks at Cady ---$--- LIKE, ---$--- \"Can you believe my effing mom is here?\"They head out to the auditorium\n"
          ]
        }
      ]
    },
    {
      "cell_type": "markdown",
      "source": [
        "CLUELESS:"
      ],
      "metadata": {
        "id": "9F9w169B40XV"
      }
    },
    {
      "cell_type": "code",
      "source": [
        "cl= \"\"\">CHER    So, OK, like right now, for example, the Haitians    need to come to America. But some people are all \"What about the strain    on our resources?\" But it's LIKE, ---$--- when I had this garden party for    my father's birthday right? I said R.S.V.P. because it was a sit-down dinner\n",
        ">    But people came that LIKE, ---$--- did not R.S.V.P. so I was LIKE, ---$--- totally    buggin'. I had to haul ass to the kitchen, redistribute the food, squish    in extra place settings, but by the end of the day it was LIKE, ---$--- the more    the merrier! And so, if the government could just get to the kitchen, rearrange    some things, we could certainly party with the Haitians. And in conclusion,    may I please remind you that it does not say R.S.V.P. on the Statue of    Liberty\n",
        ">TRAVIS    OK, LIKE, ---$--- the way I feel about the Rolling Stones    is the way my kids are going to feel about Nine Inch Nails, so I really    shouldn't torment my Mom anymore, huh\n",
        ">    I feel like such a heffer. I had two bowls of special K, three pieces of    turkey bacon, a handful of popcorn, five peanut butter M&M's, and LIKE, ---$---    three pieces of licorice\n",
        ">TRAVIS    Oh, you like 'em? See, I was    thinking it was too cluttered. You know, I wanna wipe all of this out and    concentrate on one main decorative statement.  LIKE, ---$--- uh, Marvin the Martian\n",
        ">CHER    Oh, God. Skateboards, that is    LIKE, ---$--- so five years ago\n",
        ">    Later, while we were learning    about the Pismo Beach diaster, I decided I needed a complete make-over,    except this time I'd make-over my soul. But what makes someone a better    person? And then I realised, all my friends were really good in different    ways.  LIKE, ---$--- Christian, he always wants things to be beautiful and interesting\"\"\""
      ],
      "metadata": {
        "id": "yeKbed4Ey0v3"
      },
      "execution_count": 16,
      "outputs": []
    },
    {
      "cell_type": "code",
      "source": [
        "cl1= cl.replace(\"LIKE,\", \"---$--- LIKE,\")\n",
        "print (cl1)"
      ],
      "metadata": {
        "colab": {
          "base_uri": "https://localhost:8080/"
        },
        "id": "dzbPn5jY42xM",
        "outputId": "4a3e6e39-9028-45d6-c4c6-95a7f99494f4"
      },
      "execution_count": 17,
      "outputs": [
        {
          "output_type": "stream",
          "name": "stdout",
          "text": [
            ">CHER    So, OK, like right now, for example, the Haitians    need to come to America. But some people are all \"What about the strain    on our resources?\" But it's ---$--- LIKE, ---$--- when I had this garden party for    my father's birthday right? I said R.S.V.P. because it was a sit-down dinner\n",
            ">    But people came that ---$--- LIKE, ---$--- did not R.S.V.P. so I was ---$--- LIKE, ---$--- totally    buggin'. I had to haul ass to the kitchen, redistribute the food, squish    in extra place settings, but by the end of the day it was ---$--- LIKE, ---$--- the more    the merrier! And so, if the government could just get to the kitchen, rearrange    some things, we could certainly party with the Haitians. And in conclusion,    may I please remind you that it does not say R.S.V.P. on the Statue of    Liberty\n",
            ">TRAVIS    OK, ---$--- LIKE, ---$--- the way I feel about the Rolling Stones    is the way my kids are going to feel about Nine Inch Nails, so I really    shouldn't torment my Mom anymore, huh\n",
            ">    I feel like such a heffer. I had two bowls of special K, three pieces of    turkey bacon, a handful of popcorn, five peanut butter M&M's, and ---$--- LIKE, ---$---    three pieces of licorice\n",
            ">TRAVIS    Oh, you like 'em? See, I was    thinking it was too cluttered. You know, I wanna wipe all of this out and    concentrate on one main decorative statement.  ---$--- LIKE, ---$--- uh, Marvin the Martian\n",
            ">CHER    Oh, God. Skateboards, that is    ---$--- LIKE, ---$--- so five years ago\n",
            ">    Later, while we were learning    about the Pismo Beach diaster, I decided I needed a complete make-over,    except this time I'd make-over my soul. But what makes someone a better    person? And then I realised, all my friends were really good in different    ways.  ---$--- LIKE, ---$--- Christian, he always wants things to be beautiful and interesting\n"
          ]
        }
      ]
    },
    {
      "cell_type": "markdown",
      "source": [
        "LADYBIRD: "
      ],
      "metadata": {
        "id": "ykdH7Gbe7DlD"
      }
    },
    {
      "cell_type": "code",
      "source": [
        "lb= \"\"\">DANNYRight, and so just Lady Bird alwayssays that she lives on the wrongside of the tracks, but I alwaysthought that it was, LIKE, ---$--- ametaphor\n",
        ">JENNAYeah, I was LIKE, ---$--- \"um, Mom, I can'treally talk right now.\"Everyone else laughs again. Julie now tries to join in:JULIE(to Jenna)What was the emergency\"\"\""
      ],
      "metadata": {
        "id": "9NHXD8n97FW-"
      },
      "execution_count": 31,
      "outputs": []
    },
    {
      "cell_type": "code",
      "source": [
        "lb1= lb.replace(\"LIKE,\", \"---$--- LIKE,\")\n",
        "print (lb1)"
      ],
      "metadata": {
        "colab": {
          "base_uri": "https://localhost:8080/"
        },
        "id": "Y-pyI90J7L8C",
        "outputId": "c4616ffd-eda5-4ba5-b1a4-412bc3cb99a5"
      },
      "execution_count": 32,
      "outputs": [
        {
          "output_type": "stream",
          "name": "stdout",
          "text": [
            ">DANNYRight, and so just Lady Bird alwayssays that she lives on the wrongside of the tracks, but I alwaysthought that it was, ---$--- LIKE, ---$--- ametaphor\n",
            ">JENNAYeah, I was ---$--- LIKE, ---$--- \"um, Mom, I can'treally talk right now.\"Everyone else laughs again. Julie now tries to join in:JULIE(to Jenna)What was the emergency\n"
          ]
        }
      ]
    },
    {
      "cell_type": "markdown",
      "source": [
        "RIDGEMONT:"
      ],
      "metadata": {
        "id": "XUHShgey9EAl"
      }
    },
    {
      "cell_type": "code",
      "source": [
        "rg= \"\"\">     STACY\tNo there are variables that, LIKE, ---$--- I might not be good at\n",
        ">\t\t\tSTACY\t\t(shyly)\t LIKE, ---$--- you know, giving blow jobs\n",
        ">\t\t\tSTACY\tWhat happens... don't laugh at me,\tbut when a guy has an orgasm... you\tknow, LIKE, ---$--- how much comes out\n",
        ">\t\t\tSPICOLI\t... so, LIKE, ---$--- when Jefferson went\tbefore the people what he was\tsaying was 'Hey, we left this place\tin England because it was bogus,\tand if we don't come up with some\tcool rules ourself, we'll be bogus,\ttoo!' Right\"\"\""
      ],
      "metadata": {
        "id": "Z4x_QkZl9GOx"
      },
      "execution_count": 33,
      "outputs": []
    },
    {
      "cell_type": "code",
      "source": [
        "rg1= rg.replace(\"LIKE,\", \"---$--- LIKE,\").replace(\"\t\t\t\",\"\")\n",
        "print (rg1)"
      ],
      "metadata": {
        "colab": {
          "base_uri": "https://localhost:8080/"
        },
        "id": "Sl6Qv7Eu9Nui",
        "outputId": "0a909a0c-5cb1-4825-c3fa-72b315654963"
      },
      "execution_count": 42,
      "outputs": [
        {
          "output_type": "stream",
          "name": "stdout",
          "text": [
            ">STACY\tNo there are variables that, ---$--- LIKE, ---$--- I might not be good at\n",
            ">STACY\t\t(shyly)\t ---$--- LIKE, ---$--- you know, giving blow jobs\n",
            ">STACY\tWhat happens... don't laugh at me,\tbut when a guy has an orgasm... you\tknow, ---$--- LIKE, ---$--- how much comes out\n",
            ">SPICOLI\t... so, ---$--- LIKE, ---$--- when Jefferson went\tbefore the people what he was\tsaying was 'Hey, we left this place\tin England because it was bogus,\tand if we don't come up with some\tcool rules ourself, we'll be bogus,\ttoo!' Right\n"
          ]
        }
      ]
    }
  ]
}